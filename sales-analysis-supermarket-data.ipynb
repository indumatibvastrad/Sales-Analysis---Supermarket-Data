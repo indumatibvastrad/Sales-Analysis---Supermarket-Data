{
 "cells": [
  {
   "cell_type": "markdown",
   "id": "cd9efe20",
   "metadata": {
    "_cell_guid": "b1076dfc-b9ad-4769-8c92-a6c4dae69d19",
    "_uuid": "8f2839f25d086af736a60e9eeb907d3b93b6e0e5",
    "papermill": {
     "duration": 0.007218,
     "end_time": "2023-09-20T13:20:31.567823",
     "exception": false,
     "start_time": "2023-09-20T13:20:31.560605",
     "status": "completed"
    },
    "tags": []
   },
   "source": [
    "# **Sales Analysis - Supermarket Data**"
   ]
  },
  {
   "cell_type": "markdown",
   "id": "86a7b6a7",
   "metadata": {
    "papermill": {
     "duration": 0.006628,
     "end_time": "2023-09-20T13:20:31.581464",
     "exception": false,
     "start_time": "2023-09-20T13:20:31.574836",
     "status": "completed"
    },
    "tags": []
   },
   "source": [
    "\n",
    "\n",
    "* **Be it city or town, supermarkets nowadays exists everywhere, attracting thousands of consumers on daily basis**\n",
    "\n",
    "* **The best thing about the supermarkets is that we can get the products across all the categories that too in very compatible price**\n",
    "\n",
    "* **Thus, in this notebook, we are going to perform the sales analysis of the supermarket data to understand the various aspects of consumers shopping from the supermarket store**"
   ]
  },
  {
   "cell_type": "markdown",
   "id": "53811728",
   "metadata": {
    "papermill": {
     "duration": 0.007629,
     "end_time": "2023-09-20T13:20:31.595859",
     "exception": false,
     "start_time": "2023-09-20T13:20:31.588230",
     "status": "completed"
    },
    "tags": []
   },
   "source": [
    "# Importing Libraries and Dataset\n",
    "\n",
    "* **As a first step, we have to import pandas, numpy and matplotlib libraries**\n",
    "\n",
    "* **Now, we will import the supermarket sales dataset in which we have to perform the analysis and visualization**"
   ]
  },
  {
   "cell_type": "code",
   "execution_count": 1,
   "id": "6ff4285f",
   "metadata": {
    "execution": {
     "iopub.execute_input": "2023-09-20T13:20:31.613310Z",
     "iopub.status.busy": "2023-09-20T13:20:31.612580Z",
     "iopub.status.idle": "2023-09-20T13:20:31.994092Z",
     "shell.execute_reply": "2023-09-20T13:20:31.992898Z"
    },
    "papermill": {
     "duration": 0.392649,
     "end_time": "2023-09-20T13:20:31.996803",
     "exception": false,
     "start_time": "2023-09-20T13:20:31.604154",
     "status": "completed"
    },
    "tags": []
   },
   "outputs": [],
   "source": [
    "import pandas as pd\n",
    "import numpy as np\n",
    "import matplotlib.pyplot as plt"
   ]
  },
  {
   "cell_type": "code",
   "execution_count": 2,
   "id": "b44111d7",
   "metadata": {
    "execution": {
     "iopub.execute_input": "2023-09-20T13:20:32.017543Z",
     "iopub.status.busy": "2023-09-20T13:20:32.016324Z",
     "iopub.status.idle": "2023-09-20T13:20:32.082393Z",
     "shell.execute_reply": "2023-09-20T13:20:32.081219Z"
    },
    "papermill": {
     "duration": 0.076877,
     "end_time": "2023-09-20T13:20:32.084704",
     "exception": false,
     "start_time": "2023-09-20T13:20:32.007827",
     "status": "completed"
    },
    "tags": []
   },
   "outputs": [
    {
     "data": {
      "text/html": [
       "<div>\n",
       "<style scoped>\n",
       "    .dataframe tbody tr th:only-of-type {\n",
       "        vertical-align: middle;\n",
       "    }\n",
       "\n",
       "    .dataframe tbody tr th {\n",
       "        vertical-align: top;\n",
       "    }\n",
       "\n",
       "    .dataframe thead th {\n",
       "        text-align: right;\n",
       "    }\n",
       "</style>\n",
       "<table border=\"1\" class=\"dataframe\">\n",
       "  <thead>\n",
       "    <tr style=\"text-align: right;\">\n",
       "      <th></th>\n",
       "      <th>Invoice ID</th>\n",
       "      <th>Branch</th>\n",
       "      <th>City</th>\n",
       "      <th>Customer type</th>\n",
       "      <th>Gender</th>\n",
       "      <th>Product line</th>\n",
       "      <th>Unit price</th>\n",
       "      <th>Quantity</th>\n",
       "      <th>Tax 5%</th>\n",
       "      <th>Total</th>\n",
       "      <th>Date</th>\n",
       "      <th>Time</th>\n",
       "      <th>Payment</th>\n",
       "      <th>cogs</th>\n",
       "      <th>gross margin percentage</th>\n",
       "      <th>gross income</th>\n",
       "      <th>Rating</th>\n",
       "    </tr>\n",
       "  </thead>\n",
       "  <tbody>\n",
       "    <tr>\n",
       "      <th>0</th>\n",
       "      <td>750-67-8428</td>\n",
       "      <td>A</td>\n",
       "      <td>Yangon</td>\n",
       "      <td>Member</td>\n",
       "      <td>Female</td>\n",
       "      <td>Health and beauty</td>\n",
       "      <td>74.69</td>\n",
       "      <td>7</td>\n",
       "      <td>26.1415</td>\n",
       "      <td>548.9715</td>\n",
       "      <td>1/5/2019</td>\n",
       "      <td>13:08</td>\n",
       "      <td>Ewallet</td>\n",
       "      <td>522.83</td>\n",
       "      <td>4.761905</td>\n",
       "      <td>26.1415</td>\n",
       "      <td>9.1</td>\n",
       "    </tr>\n",
       "    <tr>\n",
       "      <th>1</th>\n",
       "      <td>226-31-3081</td>\n",
       "      <td>C</td>\n",
       "      <td>Naypyitaw</td>\n",
       "      <td>Normal</td>\n",
       "      <td>Female</td>\n",
       "      <td>Electronic accessories</td>\n",
       "      <td>15.28</td>\n",
       "      <td>5</td>\n",
       "      <td>3.8200</td>\n",
       "      <td>80.2200</td>\n",
       "      <td>3/8/2019</td>\n",
       "      <td>10:29</td>\n",
       "      <td>Cash</td>\n",
       "      <td>76.40</td>\n",
       "      <td>4.761905</td>\n",
       "      <td>3.8200</td>\n",
       "      <td>9.6</td>\n",
       "    </tr>\n",
       "    <tr>\n",
       "      <th>2</th>\n",
       "      <td>631-41-3108</td>\n",
       "      <td>A</td>\n",
       "      <td>Yangon</td>\n",
       "      <td>Normal</td>\n",
       "      <td>Male</td>\n",
       "      <td>Home and lifestyle</td>\n",
       "      <td>46.33</td>\n",
       "      <td>7</td>\n",
       "      <td>16.2155</td>\n",
       "      <td>340.5255</td>\n",
       "      <td>3/3/2019</td>\n",
       "      <td>13:23</td>\n",
       "      <td>Credit card</td>\n",
       "      <td>324.31</td>\n",
       "      <td>4.761905</td>\n",
       "      <td>16.2155</td>\n",
       "      <td>7.4</td>\n",
       "    </tr>\n",
       "    <tr>\n",
       "      <th>3</th>\n",
       "      <td>123-19-1176</td>\n",
       "      <td>A</td>\n",
       "      <td>Yangon</td>\n",
       "      <td>Member</td>\n",
       "      <td>Male</td>\n",
       "      <td>Health and beauty</td>\n",
       "      <td>58.22</td>\n",
       "      <td>8</td>\n",
       "      <td>23.2880</td>\n",
       "      <td>489.0480</td>\n",
       "      <td>1/27/2019</td>\n",
       "      <td>20:33</td>\n",
       "      <td>Ewallet</td>\n",
       "      <td>465.76</td>\n",
       "      <td>4.761905</td>\n",
       "      <td>23.2880</td>\n",
       "      <td>8.4</td>\n",
       "    </tr>\n",
       "    <tr>\n",
       "      <th>4</th>\n",
       "      <td>373-73-7910</td>\n",
       "      <td>A</td>\n",
       "      <td>Yangon</td>\n",
       "      <td>Normal</td>\n",
       "      <td>Male</td>\n",
       "      <td>Sports and travel</td>\n",
       "      <td>86.31</td>\n",
       "      <td>7</td>\n",
       "      <td>30.2085</td>\n",
       "      <td>634.3785</td>\n",
       "      <td>2/8/2019</td>\n",
       "      <td>10:37</td>\n",
       "      <td>Ewallet</td>\n",
       "      <td>604.17</td>\n",
       "      <td>4.761905</td>\n",
       "      <td>30.2085</td>\n",
       "      <td>5.3</td>\n",
       "    </tr>\n",
       "    <tr>\n",
       "      <th>...</th>\n",
       "      <td>...</td>\n",
       "      <td>...</td>\n",
       "      <td>...</td>\n",
       "      <td>...</td>\n",
       "      <td>...</td>\n",
       "      <td>...</td>\n",
       "      <td>...</td>\n",
       "      <td>...</td>\n",
       "      <td>...</td>\n",
       "      <td>...</td>\n",
       "      <td>...</td>\n",
       "      <td>...</td>\n",
       "      <td>...</td>\n",
       "      <td>...</td>\n",
       "      <td>...</td>\n",
       "      <td>...</td>\n",
       "      <td>...</td>\n",
       "    </tr>\n",
       "    <tr>\n",
       "      <th>995</th>\n",
       "      <td>233-67-5758</td>\n",
       "      <td>C</td>\n",
       "      <td>Naypyitaw</td>\n",
       "      <td>Normal</td>\n",
       "      <td>Male</td>\n",
       "      <td>Health and beauty</td>\n",
       "      <td>40.35</td>\n",
       "      <td>1</td>\n",
       "      <td>2.0175</td>\n",
       "      <td>42.3675</td>\n",
       "      <td>1/29/2019</td>\n",
       "      <td>13:46</td>\n",
       "      <td>Ewallet</td>\n",
       "      <td>40.35</td>\n",
       "      <td>4.761905</td>\n",
       "      <td>2.0175</td>\n",
       "      <td>6.2</td>\n",
       "    </tr>\n",
       "    <tr>\n",
       "      <th>996</th>\n",
       "      <td>303-96-2227</td>\n",
       "      <td>B</td>\n",
       "      <td>Mandalay</td>\n",
       "      <td>Normal</td>\n",
       "      <td>Female</td>\n",
       "      <td>Home and lifestyle</td>\n",
       "      <td>97.38</td>\n",
       "      <td>10</td>\n",
       "      <td>48.6900</td>\n",
       "      <td>1022.4900</td>\n",
       "      <td>3/2/2019</td>\n",
       "      <td>17:16</td>\n",
       "      <td>Ewallet</td>\n",
       "      <td>973.80</td>\n",
       "      <td>4.761905</td>\n",
       "      <td>48.6900</td>\n",
       "      <td>4.4</td>\n",
       "    </tr>\n",
       "    <tr>\n",
       "      <th>997</th>\n",
       "      <td>727-02-1313</td>\n",
       "      <td>A</td>\n",
       "      <td>Yangon</td>\n",
       "      <td>Member</td>\n",
       "      <td>Male</td>\n",
       "      <td>Food and beverages</td>\n",
       "      <td>31.84</td>\n",
       "      <td>1</td>\n",
       "      <td>1.5920</td>\n",
       "      <td>33.4320</td>\n",
       "      <td>2/9/2019</td>\n",
       "      <td>13:22</td>\n",
       "      <td>Cash</td>\n",
       "      <td>31.84</td>\n",
       "      <td>4.761905</td>\n",
       "      <td>1.5920</td>\n",
       "      <td>7.7</td>\n",
       "    </tr>\n",
       "    <tr>\n",
       "      <th>998</th>\n",
       "      <td>347-56-2442</td>\n",
       "      <td>A</td>\n",
       "      <td>Yangon</td>\n",
       "      <td>Normal</td>\n",
       "      <td>Male</td>\n",
       "      <td>Home and lifestyle</td>\n",
       "      <td>65.82</td>\n",
       "      <td>1</td>\n",
       "      <td>3.2910</td>\n",
       "      <td>69.1110</td>\n",
       "      <td>2/22/2019</td>\n",
       "      <td>15:33</td>\n",
       "      <td>Cash</td>\n",
       "      <td>65.82</td>\n",
       "      <td>4.761905</td>\n",
       "      <td>3.2910</td>\n",
       "      <td>4.1</td>\n",
       "    </tr>\n",
       "    <tr>\n",
       "      <th>999</th>\n",
       "      <td>849-09-3807</td>\n",
       "      <td>A</td>\n",
       "      <td>Yangon</td>\n",
       "      <td>Member</td>\n",
       "      <td>Female</td>\n",
       "      <td>Fashion accessories</td>\n",
       "      <td>88.34</td>\n",
       "      <td>7</td>\n",
       "      <td>30.9190</td>\n",
       "      <td>649.2990</td>\n",
       "      <td>2/18/2019</td>\n",
       "      <td>13:28</td>\n",
       "      <td>Cash</td>\n",
       "      <td>618.38</td>\n",
       "      <td>4.761905</td>\n",
       "      <td>30.9190</td>\n",
       "      <td>6.6</td>\n",
       "    </tr>\n",
       "  </tbody>\n",
       "</table>\n",
       "<p>1000 rows × 17 columns</p>\n",
       "</div>"
      ],
      "text/plain": [
       "      Invoice ID Branch       City Customer type  Gender  \\\n",
       "0    750-67-8428      A     Yangon        Member  Female   \n",
       "1    226-31-3081      C  Naypyitaw        Normal  Female   \n",
       "2    631-41-3108      A     Yangon        Normal    Male   \n",
       "3    123-19-1176      A     Yangon        Member    Male   \n",
       "4    373-73-7910      A     Yangon        Normal    Male   \n",
       "..           ...    ...        ...           ...     ...   \n",
       "995  233-67-5758      C  Naypyitaw        Normal    Male   \n",
       "996  303-96-2227      B   Mandalay        Normal  Female   \n",
       "997  727-02-1313      A     Yangon        Member    Male   \n",
       "998  347-56-2442      A     Yangon        Normal    Male   \n",
       "999  849-09-3807      A     Yangon        Member  Female   \n",
       "\n",
       "               Product line  Unit price  Quantity   Tax 5%      Total  \\\n",
       "0         Health and beauty       74.69         7  26.1415   548.9715   \n",
       "1    Electronic accessories       15.28         5   3.8200    80.2200   \n",
       "2        Home and lifestyle       46.33         7  16.2155   340.5255   \n",
       "3         Health and beauty       58.22         8  23.2880   489.0480   \n",
       "4         Sports and travel       86.31         7  30.2085   634.3785   \n",
       "..                      ...         ...       ...      ...        ...   \n",
       "995       Health and beauty       40.35         1   2.0175    42.3675   \n",
       "996      Home and lifestyle       97.38        10  48.6900  1022.4900   \n",
       "997      Food and beverages       31.84         1   1.5920    33.4320   \n",
       "998      Home and lifestyle       65.82         1   3.2910    69.1110   \n",
       "999     Fashion accessories       88.34         7  30.9190   649.2990   \n",
       "\n",
       "          Date   Time      Payment    cogs  gross margin percentage  \\\n",
       "0     1/5/2019  13:08      Ewallet  522.83                 4.761905   \n",
       "1     3/8/2019  10:29         Cash   76.40                 4.761905   \n",
       "2     3/3/2019  13:23  Credit card  324.31                 4.761905   \n",
       "3    1/27/2019  20:33      Ewallet  465.76                 4.761905   \n",
       "4     2/8/2019  10:37      Ewallet  604.17                 4.761905   \n",
       "..         ...    ...          ...     ...                      ...   \n",
       "995  1/29/2019  13:46      Ewallet   40.35                 4.761905   \n",
       "996   3/2/2019  17:16      Ewallet  973.80                 4.761905   \n",
       "997   2/9/2019  13:22         Cash   31.84                 4.761905   \n",
       "998  2/22/2019  15:33         Cash   65.82                 4.761905   \n",
       "999  2/18/2019  13:28         Cash  618.38                 4.761905   \n",
       "\n",
       "     gross income  Rating  \n",
       "0         26.1415     9.1  \n",
       "1          3.8200     9.6  \n",
       "2         16.2155     7.4  \n",
       "3         23.2880     8.4  \n",
       "4         30.2085     5.3  \n",
       "..            ...     ...  \n",
       "995        2.0175     6.2  \n",
       "996       48.6900     4.4  \n",
       "997        1.5920     7.7  \n",
       "998        3.2910     4.1  \n",
       "999       30.9190     6.6  \n",
       "\n",
       "[1000 rows x 17 columns]"
      ]
     },
     "execution_count": 2,
     "metadata": {},
     "output_type": "execute_result"
    }
   ],
   "source": [
    "a=pd.read_csv('/kaggle/input/sheet1/supermarket_sales - Sheet1.csv')\n",
    "a"
   ]
  },
  {
   "cell_type": "markdown",
   "id": "235ad0a1",
   "metadata": {
    "papermill": {
     "duration": 0.00729,
     "end_time": "2023-09-20T13:20:32.099441",
     "exception": false,
     "start_time": "2023-09-20T13:20:32.092151",
     "status": "completed"
    },
    "tags": []
   },
   "source": [
    "# Data Manipulation\n",
    "\n",
    "* **Manipulation is usually considered in a negative way, but it is an essential part of data analysis**\n",
    "\n",
    "* **Instead of default ranking, we will set Invoice ID as the index column**\n",
    "\n",
    "* **Also, we will sort the values by Rating in the descending order**"
   ]
  },
  {
   "cell_type": "code",
   "execution_count": 3,
   "id": "a6fd0a44",
   "metadata": {
    "execution": {
     "iopub.execute_input": "2023-09-20T13:20:32.117697Z",
     "iopub.status.busy": "2023-09-20T13:20:32.116991Z",
     "iopub.status.idle": "2023-09-20T13:20:32.162677Z",
     "shell.execute_reply": "2023-09-20T13:20:32.161495Z"
    },
    "papermill": {
     "duration": 0.057535,
     "end_time": "2023-09-20T13:20:32.165390",
     "exception": false,
     "start_time": "2023-09-20T13:20:32.107855",
     "status": "completed"
    },
    "tags": []
   },
   "outputs": [
    {
     "data": {
      "text/html": [
       "<div>\n",
       "<style scoped>\n",
       "    .dataframe tbody tr th:only-of-type {\n",
       "        vertical-align: middle;\n",
       "    }\n",
       "\n",
       "    .dataframe tbody tr th {\n",
       "        vertical-align: top;\n",
       "    }\n",
       "\n",
       "    .dataframe thead th {\n",
       "        text-align: right;\n",
       "    }\n",
       "</style>\n",
       "<table border=\"1\" class=\"dataframe\">\n",
       "  <thead>\n",
       "    <tr style=\"text-align: right;\">\n",
       "      <th></th>\n",
       "      <th>Branch</th>\n",
       "      <th>City</th>\n",
       "      <th>Customer type</th>\n",
       "      <th>Gender</th>\n",
       "      <th>Product line</th>\n",
       "      <th>Unit price</th>\n",
       "      <th>Quantity</th>\n",
       "      <th>Tax 5%</th>\n",
       "      <th>Total</th>\n",
       "      <th>Date</th>\n",
       "      <th>Time</th>\n",
       "      <th>Payment</th>\n",
       "      <th>cogs</th>\n",
       "      <th>gross margin percentage</th>\n",
       "      <th>gross income</th>\n",
       "      <th>Rating</th>\n",
       "    </tr>\n",
       "    <tr>\n",
       "      <th>Invoice ID</th>\n",
       "      <th></th>\n",
       "      <th></th>\n",
       "      <th></th>\n",
       "      <th></th>\n",
       "      <th></th>\n",
       "      <th></th>\n",
       "      <th></th>\n",
       "      <th></th>\n",
       "      <th></th>\n",
       "      <th></th>\n",
       "      <th></th>\n",
       "      <th></th>\n",
       "      <th></th>\n",
       "      <th></th>\n",
       "      <th></th>\n",
       "      <th></th>\n",
       "    </tr>\n",
       "  </thead>\n",
       "  <tbody>\n",
       "    <tr>\n",
       "      <th>725-56-0833</th>\n",
       "      <td>A</td>\n",
       "      <td>Yangon</td>\n",
       "      <td>Normal</td>\n",
       "      <td>Female</td>\n",
       "      <td>Health and beauty</td>\n",
       "      <td>32.32</td>\n",
       "      <td>10</td>\n",
       "      <td>16.1600</td>\n",
       "      <td>339.3600</td>\n",
       "      <td>2/20/2019</td>\n",
       "      <td>16:49</td>\n",
       "      <td>Credit card</td>\n",
       "      <td>323.20</td>\n",
       "      <td>4.761905</td>\n",
       "      <td>16.1600</td>\n",
       "      <td>10.0</td>\n",
       "    </tr>\n",
       "    <tr>\n",
       "      <th>423-57-2993</th>\n",
       "      <td>B</td>\n",
       "      <td>Mandalay</td>\n",
       "      <td>Normal</td>\n",
       "      <td>Male</td>\n",
       "      <td>Sports and travel</td>\n",
       "      <td>93.39</td>\n",
       "      <td>6</td>\n",
       "      <td>28.0170</td>\n",
       "      <td>588.3570</td>\n",
       "      <td>3/27/2019</td>\n",
       "      <td>19:18</td>\n",
       "      <td>Ewallet</td>\n",
       "      <td>560.34</td>\n",
       "      <td>4.761905</td>\n",
       "      <td>28.0170</td>\n",
       "      <td>10.0</td>\n",
       "    </tr>\n",
       "    <tr>\n",
       "      <th>866-70-2814</th>\n",
       "      <td>B</td>\n",
       "      <td>Mandalay</td>\n",
       "      <td>Normal</td>\n",
       "      <td>Female</td>\n",
       "      <td>Electronic accessories</td>\n",
       "      <td>52.79</td>\n",
       "      <td>10</td>\n",
       "      <td>26.3950</td>\n",
       "      <td>554.2950</td>\n",
       "      <td>2/25/2019</td>\n",
       "      <td>11:58</td>\n",
       "      <td>Ewallet</td>\n",
       "      <td>527.90</td>\n",
       "      <td>4.761905</td>\n",
       "      <td>26.3950</td>\n",
       "      <td>10.0</td>\n",
       "    </tr>\n",
       "    <tr>\n",
       "      <th>347-34-2234</th>\n",
       "      <td>B</td>\n",
       "      <td>Mandalay</td>\n",
       "      <td>Member</td>\n",
       "      <td>Female</td>\n",
       "      <td>Sports and travel</td>\n",
       "      <td>55.07</td>\n",
       "      <td>9</td>\n",
       "      <td>24.7815</td>\n",
       "      <td>520.4115</td>\n",
       "      <td>2/3/2019</td>\n",
       "      <td>13:40</td>\n",
       "      <td>Ewallet</td>\n",
       "      <td>495.63</td>\n",
       "      <td>4.761905</td>\n",
       "      <td>24.7815</td>\n",
       "      <td>10.0</td>\n",
       "    </tr>\n",
       "    <tr>\n",
       "      <th>285-68-5083</th>\n",
       "      <td>C</td>\n",
       "      <td>Naypyitaw</td>\n",
       "      <td>Member</td>\n",
       "      <td>Female</td>\n",
       "      <td>Sports and travel</td>\n",
       "      <td>24.74</td>\n",
       "      <td>3</td>\n",
       "      <td>3.7110</td>\n",
       "      <td>77.9310</td>\n",
       "      <td>2/15/2019</td>\n",
       "      <td>17:47</td>\n",
       "      <td>Credit card</td>\n",
       "      <td>74.22</td>\n",
       "      <td>4.761905</td>\n",
       "      <td>3.7110</td>\n",
       "      <td>10.0</td>\n",
       "    </tr>\n",
       "    <tr>\n",
       "      <th>...</th>\n",
       "      <td>...</td>\n",
       "      <td>...</td>\n",
       "      <td>...</td>\n",
       "      <td>...</td>\n",
       "      <td>...</td>\n",
       "      <td>...</td>\n",
       "      <td>...</td>\n",
       "      <td>...</td>\n",
       "      <td>...</td>\n",
       "      <td>...</td>\n",
       "      <td>...</td>\n",
       "      <td>...</td>\n",
       "      <td>...</td>\n",
       "      <td>...</td>\n",
       "      <td>...</td>\n",
       "      <td>...</td>\n",
       "    </tr>\n",
       "    <tr>\n",
       "      <th>182-69-8360</th>\n",
       "      <td>B</td>\n",
       "      <td>Mandalay</td>\n",
       "      <td>Normal</td>\n",
       "      <td>Female</td>\n",
       "      <td>Electronic accessories</td>\n",
       "      <td>23.65</td>\n",
       "      <td>4</td>\n",
       "      <td>4.7300</td>\n",
       "      <td>99.3300</td>\n",
       "      <td>1/30/2019</td>\n",
       "      <td>13:32</td>\n",
       "      <td>Credit card</td>\n",
       "      <td>94.60</td>\n",
       "      <td>4.761905</td>\n",
       "      <td>4.7300</td>\n",
       "      <td>4.0</td>\n",
       "    </tr>\n",
       "    <tr>\n",
       "      <th>845-94-6841</th>\n",
       "      <td>C</td>\n",
       "      <td>Naypyitaw</td>\n",
       "      <td>Member</td>\n",
       "      <td>Female</td>\n",
       "      <td>Food and beverages</td>\n",
       "      <td>72.88</td>\n",
       "      <td>9</td>\n",
       "      <td>32.7960</td>\n",
       "      <td>688.7160</td>\n",
       "      <td>1/8/2019</td>\n",
       "      <td>19:38</td>\n",
       "      <td>Cash</td>\n",
       "      <td>655.92</td>\n",
       "      <td>4.761905</td>\n",
       "      <td>32.7960</td>\n",
       "      <td>4.0</td>\n",
       "    </tr>\n",
       "    <tr>\n",
       "      <th>131-15-8856</th>\n",
       "      <td>C</td>\n",
       "      <td>Naypyitaw</td>\n",
       "      <td>Member</td>\n",
       "      <td>Female</td>\n",
       "      <td>Food and beverages</td>\n",
       "      <td>72.52</td>\n",
       "      <td>8</td>\n",
       "      <td>29.0080</td>\n",
       "      <td>609.1680</td>\n",
       "      <td>3/30/2019</td>\n",
       "      <td>19:26</td>\n",
       "      <td>Credit card</td>\n",
       "      <td>580.16</td>\n",
       "      <td>4.761905</td>\n",
       "      <td>29.0080</td>\n",
       "      <td>4.0</td>\n",
       "    </tr>\n",
       "    <tr>\n",
       "      <th>730-61-8757</th>\n",
       "      <td>B</td>\n",
       "      <td>Mandalay</td>\n",
       "      <td>Member</td>\n",
       "      <td>Male</td>\n",
       "      <td>Health and beauty</td>\n",
       "      <td>51.13</td>\n",
       "      <td>4</td>\n",
       "      <td>10.2260</td>\n",
       "      <td>214.7460</td>\n",
       "      <td>1/25/2019</td>\n",
       "      <td>10:11</td>\n",
       "      <td>Credit card</td>\n",
       "      <td>204.52</td>\n",
       "      <td>4.761905</td>\n",
       "      <td>10.2260</td>\n",
       "      <td>4.0</td>\n",
       "    </tr>\n",
       "    <tr>\n",
       "      <th>885-56-0389</th>\n",
       "      <td>C</td>\n",
       "      <td>Naypyitaw</td>\n",
       "      <td>Member</td>\n",
       "      <td>Male</td>\n",
       "      <td>Fashion accessories</td>\n",
       "      <td>52.35</td>\n",
       "      <td>1</td>\n",
       "      <td>2.6175</td>\n",
       "      <td>54.9675</td>\n",
       "      <td>2/12/2019</td>\n",
       "      <td>17:49</td>\n",
       "      <td>Cash</td>\n",
       "      <td>52.35</td>\n",
       "      <td>4.761905</td>\n",
       "      <td>2.6175</td>\n",
       "      <td>4.0</td>\n",
       "    </tr>\n",
       "  </tbody>\n",
       "</table>\n",
       "<p>1000 rows × 16 columns</p>\n",
       "</div>"
      ],
      "text/plain": [
       "            Branch       City Customer type  Gender            Product line  \\\n",
       "Invoice ID                                                                    \n",
       "725-56-0833      A     Yangon        Normal  Female       Health and beauty   \n",
       "423-57-2993      B   Mandalay        Normal    Male       Sports and travel   \n",
       "866-70-2814      B   Mandalay        Normal  Female  Electronic accessories   \n",
       "347-34-2234      B   Mandalay        Member  Female       Sports and travel   \n",
       "285-68-5083      C  Naypyitaw        Member  Female       Sports and travel   \n",
       "...            ...        ...           ...     ...                     ...   \n",
       "182-69-8360      B   Mandalay        Normal  Female  Electronic accessories   \n",
       "845-94-6841      C  Naypyitaw        Member  Female      Food and beverages   \n",
       "131-15-8856      C  Naypyitaw        Member  Female      Food and beverages   \n",
       "730-61-8757      B   Mandalay        Member    Male       Health and beauty   \n",
       "885-56-0389      C  Naypyitaw        Member    Male     Fashion accessories   \n",
       "\n",
       "             Unit price  Quantity   Tax 5%     Total       Date   Time  \\\n",
       "Invoice ID                                                               \n",
       "725-56-0833       32.32        10  16.1600  339.3600  2/20/2019  16:49   \n",
       "423-57-2993       93.39         6  28.0170  588.3570  3/27/2019  19:18   \n",
       "866-70-2814       52.79        10  26.3950  554.2950  2/25/2019  11:58   \n",
       "347-34-2234       55.07         9  24.7815  520.4115   2/3/2019  13:40   \n",
       "285-68-5083       24.74         3   3.7110   77.9310  2/15/2019  17:47   \n",
       "...                 ...       ...      ...       ...        ...    ...   \n",
       "182-69-8360       23.65         4   4.7300   99.3300  1/30/2019  13:32   \n",
       "845-94-6841       72.88         9  32.7960  688.7160   1/8/2019  19:38   \n",
       "131-15-8856       72.52         8  29.0080  609.1680  3/30/2019  19:26   \n",
       "730-61-8757       51.13         4  10.2260  214.7460  1/25/2019  10:11   \n",
       "885-56-0389       52.35         1   2.6175   54.9675  2/12/2019  17:49   \n",
       "\n",
       "                 Payment    cogs  gross margin percentage  gross income  \\\n",
       "Invoice ID                                                                \n",
       "725-56-0833  Credit card  323.20                 4.761905       16.1600   \n",
       "423-57-2993      Ewallet  560.34                 4.761905       28.0170   \n",
       "866-70-2814      Ewallet  527.90                 4.761905       26.3950   \n",
       "347-34-2234      Ewallet  495.63                 4.761905       24.7815   \n",
       "285-68-5083  Credit card   74.22                 4.761905        3.7110   \n",
       "...                  ...     ...                      ...           ...   \n",
       "182-69-8360  Credit card   94.60                 4.761905        4.7300   \n",
       "845-94-6841         Cash  655.92                 4.761905       32.7960   \n",
       "131-15-8856  Credit card  580.16                 4.761905       29.0080   \n",
       "730-61-8757  Credit card  204.52                 4.761905       10.2260   \n",
       "885-56-0389         Cash   52.35                 4.761905        2.6175   \n",
       "\n",
       "             Rating  \n",
       "Invoice ID           \n",
       "725-56-0833    10.0  \n",
       "423-57-2993    10.0  \n",
       "866-70-2814    10.0  \n",
       "347-34-2234    10.0  \n",
       "285-68-5083    10.0  \n",
       "...             ...  \n",
       "182-69-8360     4.0  \n",
       "845-94-6841     4.0  \n",
       "131-15-8856     4.0  \n",
       "730-61-8757     4.0  \n",
       "885-56-0389     4.0  \n",
       "\n",
       "[1000 rows x 16 columns]"
      ]
     },
     "execution_count": 3,
     "metadata": {},
     "output_type": "execute_result"
    }
   ],
   "source": [
    "a=pd.read_csv(\"/kaggle/input/sheet1/supermarket_sales - Sheet1.csv\",index_col=['Invoice ID']) #Giving Index Column\n",
    "a.sort_values('Rating',ascending=False, inplace=True) #Sorting values based on Rating\n",
    "a"
   ]
  },
  {
   "cell_type": "code",
   "execution_count": 4,
   "id": "c17ff947",
   "metadata": {
    "execution": {
     "iopub.execute_input": "2023-09-20T13:20:32.186527Z",
     "iopub.status.busy": "2023-09-20T13:20:32.185966Z",
     "iopub.status.idle": "2023-09-20T13:20:32.209747Z",
     "shell.execute_reply": "2023-09-20T13:20:32.208425Z"
    },
    "papermill": {
     "duration": 0.036263,
     "end_time": "2023-09-20T13:20:32.212456",
     "exception": false,
     "start_time": "2023-09-20T13:20:32.176193",
     "status": "completed"
    },
    "tags": []
   },
   "outputs": [
    {
     "name": "stdout",
     "output_type": "stream",
     "text": [
      "<class 'pandas.core.frame.DataFrame'>\n",
      "Index: 1000 entries, 725-56-0833 to 885-56-0389\n",
      "Data columns (total 16 columns):\n",
      " #   Column                   Non-Null Count  Dtype  \n",
      "---  ------                   --------------  -----  \n",
      " 0   Branch                   1000 non-null   object \n",
      " 1   City                     1000 non-null   object \n",
      " 2   Customer type            1000 non-null   object \n",
      " 3   Gender                   1000 non-null   object \n",
      " 4   Product line             1000 non-null   object \n",
      " 5   Unit price               1000 non-null   float64\n",
      " 6   Quantity                 1000 non-null   int64  \n",
      " 7   Tax 5%                   1000 non-null   float64\n",
      " 8   Total                    1000 non-null   float64\n",
      " 9   Date                     1000 non-null   object \n",
      " 10  Time                     1000 non-null   object \n",
      " 11  Payment                  1000 non-null   object \n",
      " 12  cogs                     1000 non-null   float64\n",
      " 13  gross margin percentage  1000 non-null   float64\n",
      " 14  gross income             1000 non-null   float64\n",
      " 15  Rating                   1000 non-null   float64\n",
      "dtypes: float64(7), int64(1), object(8)\n",
      "memory usage: 132.8+ KB\n"
     ]
    }
   ],
   "source": [
    "a.info() #Getting information about the each and every column"
   ]
  },
  {
   "cell_type": "code",
   "execution_count": 5,
   "id": "2ab6e17c",
   "metadata": {
    "execution": {
     "iopub.execute_input": "2023-09-20T13:20:32.231049Z",
     "iopub.status.busy": "2023-09-20T13:20:32.229817Z",
     "iopub.status.idle": "2023-09-20T13:20:32.264487Z",
     "shell.execute_reply": "2023-09-20T13:20:32.263371Z"
    },
    "papermill": {
     "duration": 0.046389,
     "end_time": "2023-09-20T13:20:32.266940",
     "exception": false,
     "start_time": "2023-09-20T13:20:32.220551",
     "status": "completed"
    },
    "tags": []
   },
   "outputs": [
    {
     "data": {
      "text/html": [
       "<div>\n",
       "<style scoped>\n",
       "    .dataframe tbody tr th:only-of-type {\n",
       "        vertical-align: middle;\n",
       "    }\n",
       "\n",
       "    .dataframe tbody tr th {\n",
       "        vertical-align: top;\n",
       "    }\n",
       "\n",
       "    .dataframe thead th {\n",
       "        text-align: right;\n",
       "    }\n",
       "</style>\n",
       "<table border=\"1\" class=\"dataframe\">\n",
       "  <thead>\n",
       "    <tr style=\"text-align: right;\">\n",
       "      <th></th>\n",
       "      <th>Unit price</th>\n",
       "      <th>Quantity</th>\n",
       "      <th>Tax 5%</th>\n",
       "      <th>Total</th>\n",
       "      <th>cogs</th>\n",
       "      <th>gross margin percentage</th>\n",
       "      <th>gross income</th>\n",
       "      <th>Rating</th>\n",
       "    </tr>\n",
       "  </thead>\n",
       "  <tbody>\n",
       "    <tr>\n",
       "      <th>count</th>\n",
       "      <td>1000.000000</td>\n",
       "      <td>1000.000000</td>\n",
       "      <td>1000.000000</td>\n",
       "      <td>1000.000000</td>\n",
       "      <td>1000.00000</td>\n",
       "      <td>1000.000000</td>\n",
       "      <td>1000.000000</td>\n",
       "      <td>1000.00000</td>\n",
       "    </tr>\n",
       "    <tr>\n",
       "      <th>mean</th>\n",
       "      <td>55.672130</td>\n",
       "      <td>5.510000</td>\n",
       "      <td>15.379369</td>\n",
       "      <td>322.966749</td>\n",
       "      <td>307.58738</td>\n",
       "      <td>4.761905</td>\n",
       "      <td>15.379369</td>\n",
       "      <td>6.97270</td>\n",
       "    </tr>\n",
       "    <tr>\n",
       "      <th>std</th>\n",
       "      <td>26.494628</td>\n",
       "      <td>2.923431</td>\n",
       "      <td>11.708825</td>\n",
       "      <td>245.885335</td>\n",
       "      <td>234.17651</td>\n",
       "      <td>0.000000</td>\n",
       "      <td>11.708825</td>\n",
       "      <td>1.71858</td>\n",
       "    </tr>\n",
       "    <tr>\n",
       "      <th>min</th>\n",
       "      <td>10.080000</td>\n",
       "      <td>1.000000</td>\n",
       "      <td>0.508500</td>\n",
       "      <td>10.678500</td>\n",
       "      <td>10.17000</td>\n",
       "      <td>4.761905</td>\n",
       "      <td>0.508500</td>\n",
       "      <td>4.00000</td>\n",
       "    </tr>\n",
       "    <tr>\n",
       "      <th>25%</th>\n",
       "      <td>32.875000</td>\n",
       "      <td>3.000000</td>\n",
       "      <td>5.924875</td>\n",
       "      <td>124.422375</td>\n",
       "      <td>118.49750</td>\n",
       "      <td>4.761905</td>\n",
       "      <td>5.924875</td>\n",
       "      <td>5.50000</td>\n",
       "    </tr>\n",
       "    <tr>\n",
       "      <th>50%</th>\n",
       "      <td>55.230000</td>\n",
       "      <td>5.000000</td>\n",
       "      <td>12.088000</td>\n",
       "      <td>253.848000</td>\n",
       "      <td>241.76000</td>\n",
       "      <td>4.761905</td>\n",
       "      <td>12.088000</td>\n",
       "      <td>7.00000</td>\n",
       "    </tr>\n",
       "    <tr>\n",
       "      <th>75%</th>\n",
       "      <td>77.935000</td>\n",
       "      <td>8.000000</td>\n",
       "      <td>22.445250</td>\n",
       "      <td>471.350250</td>\n",
       "      <td>448.90500</td>\n",
       "      <td>4.761905</td>\n",
       "      <td>22.445250</td>\n",
       "      <td>8.50000</td>\n",
       "    </tr>\n",
       "    <tr>\n",
       "      <th>max</th>\n",
       "      <td>99.960000</td>\n",
       "      <td>10.000000</td>\n",
       "      <td>49.650000</td>\n",
       "      <td>1042.650000</td>\n",
       "      <td>993.00000</td>\n",
       "      <td>4.761905</td>\n",
       "      <td>49.650000</td>\n",
       "      <td>10.00000</td>\n",
       "    </tr>\n",
       "  </tbody>\n",
       "</table>\n",
       "</div>"
      ],
      "text/plain": [
       "        Unit price     Quantity       Tax 5%        Total        cogs  \\\n",
       "count  1000.000000  1000.000000  1000.000000  1000.000000  1000.00000   \n",
       "mean     55.672130     5.510000    15.379369   322.966749   307.58738   \n",
       "std      26.494628     2.923431    11.708825   245.885335   234.17651   \n",
       "min      10.080000     1.000000     0.508500    10.678500    10.17000   \n",
       "25%      32.875000     3.000000     5.924875   124.422375   118.49750   \n",
       "50%      55.230000     5.000000    12.088000   253.848000   241.76000   \n",
       "75%      77.935000     8.000000    22.445250   471.350250   448.90500   \n",
       "max      99.960000    10.000000    49.650000  1042.650000   993.00000   \n",
       "\n",
       "       gross margin percentage  gross income      Rating  \n",
       "count              1000.000000   1000.000000  1000.00000  \n",
       "mean                  4.761905     15.379369     6.97270  \n",
       "std                   0.000000     11.708825     1.71858  \n",
       "min                   4.761905      0.508500     4.00000  \n",
       "25%                   4.761905      5.924875     5.50000  \n",
       "50%                   4.761905     12.088000     7.00000  \n",
       "75%                   4.761905     22.445250     8.50000  \n",
       "max                   4.761905     49.650000    10.00000  "
      ]
     },
     "execution_count": 5,
     "metadata": {},
     "output_type": "execute_result"
    }
   ],
   "source": [
    "a.describe()"
   ]
  },
  {
   "cell_type": "markdown",
   "id": "1ad2d5e1",
   "metadata": {
    "papermill": {
     "duration": 0.008063,
     "end_time": "2023-09-20T13:20:32.284194",
     "exception": false,
     "start_time": "2023-09-20T13:20:32.276131",
     "status": "completed"
    },
    "tags": []
   },
   "source": [
    "# Mode of Payment\n",
    "\n",
    "* **Every consumer perfers different mode of payment, some may go with online payment, others may go with cash**\n",
    "\n",
    "* **Thus, we have to find out the number of transaction for each payment category**"
   ]
  },
  {
   "cell_type": "code",
   "execution_count": 6,
   "id": "2d22b88b",
   "metadata": {
    "execution": {
     "iopub.execute_input": "2023-09-20T13:20:32.303215Z",
     "iopub.status.busy": "2023-09-20T13:20:32.302808Z",
     "iopub.status.idle": "2023-09-20T13:20:32.311107Z",
     "shell.execute_reply": "2023-09-20T13:20:32.310067Z"
    },
    "papermill": {
     "duration": 0.020666,
     "end_time": "2023-09-20T13:20:32.313519",
     "exception": false,
     "start_time": "2023-09-20T13:20:32.292853",
     "status": "completed"
    },
    "tags": []
   },
   "outputs": [
    {
     "data": {
      "text/plain": [
       "Payment\n",
       "Ewallet        345\n",
       "Cash           344\n",
       "Credit card    311\n",
       "Name: count, dtype: int64"
      ]
     },
     "execution_count": 6,
     "metadata": {},
     "output_type": "execute_result"
    }
   ],
   "source": [
    "a['Payment'].value_counts()"
   ]
  },
  {
   "cell_type": "markdown",
   "id": "40e850c4",
   "metadata": {
    "papermill": {
     "duration": 0.007977,
     "end_time": "2023-09-20T13:20:32.329835",
     "exception": false,
     "start_time": "2023-09-20T13:20:32.321858",
     "status": "completed"
    },
    "tags": []
   },
   "source": [
    "# Details of Unit Price of the Products\n",
    "\n",
    "* **Here, our task is to list out the products where the value of unit price is greater than 99.8**"
   ]
  },
  {
   "cell_type": "code",
   "execution_count": 7,
   "id": "50560559",
   "metadata": {
    "execution": {
     "iopub.execute_input": "2023-09-20T13:20:32.348280Z",
     "iopub.status.busy": "2023-09-20T13:20:32.347862Z",
     "iopub.status.idle": "2023-09-20T13:20:32.356619Z",
     "shell.execute_reply": "2023-09-20T13:20:32.355870Z"
    },
    "papermill": {
     "duration": 0.020275,
     "end_time": "2023-09-20T13:20:32.358490",
     "exception": false,
     "start_time": "2023-09-20T13:20:32.338215",
     "status": "completed"
    },
    "tags": []
   },
   "outputs": [
    {
     "data": {
      "text/plain": [
       "Invoice ID\n",
       "148-41-7930    99.96\n",
       "219-22-9386    99.96\n",
       "641-62-7288    99.92\n",
       "437-53-3084    99.89\n",
       "667-92-0055    99.83\n",
       "446-47-6729    99.82\n",
       "702-83-5291    99.82\n",
       "Name: Unit price, dtype: float64"
      ]
     },
     "execution_count": 7,
     "metadata": {},
     "output_type": "execute_result"
    }
   ],
   "source": [
    "b=a[a['Unit price']>=99.8]\n",
    "b['Unit price'].sort_values(ascending=False)"
   ]
  },
  {
   "cell_type": "markdown",
   "id": "a61f0803",
   "metadata": {
    "papermill": {
     "duration": 0.008435,
     "end_time": "2023-09-20T13:20:32.375311",
     "exception": false,
     "start_time": "2023-09-20T13:20:32.366876",
     "status": "completed"
    },
    "tags": []
   },
   "source": [
    "# Type of Customers in Mandalay\n",
    "\n",
    "* **This time, we need to obtain insights for the customers who belongs to Mandalay city only**\n",
    "\n",
    "* **We need to need to select the customer from Mandalay having membership**\n",
    "\n",
    "* **Further, we need to count how many male and female members are there at that specific location**"
   ]
  },
  {
   "cell_type": "code",
   "execution_count": 8,
   "id": "7f3cc3dd",
   "metadata": {
    "execution": {
     "iopub.execute_input": "2023-09-20T13:20:32.393841Z",
     "iopub.status.busy": "2023-09-20T13:20:32.393469Z",
     "iopub.status.idle": "2023-09-20T13:20:32.404163Z",
     "shell.execute_reply": "2023-09-20T13:20:32.403064Z"
    },
    "papermill": {
     "duration": 0.022816,
     "end_time": "2023-09-20T13:20:32.406564",
     "exception": false,
     "start_time": "2023-09-20T13:20:32.383748",
     "status": "completed"
    },
    "tags": []
   },
   "outputs": [
    {
     "data": {
      "text/plain": [
       "Gender\n",
       "Female    85\n",
       "Male      80\n",
       "Name: count, dtype: int64"
      ]
     },
     "execution_count": 8,
     "metadata": {},
     "output_type": "execute_result"
    }
   ],
   "source": [
    "c= a[a['City']== 'Mandalay'] #Specifying the city in which we need to focus on\n",
    "c=c[c['Customer type']=='Member'] #Checking for the values where Member is true\n",
    "c['Gender'].value_counts()#Counting the values of males and females"
   ]
  },
  {
   "cell_type": "markdown",
   "id": "d4c20407",
   "metadata": {
    "papermill": {
     "duration": 0.008372,
     "end_time": "2023-09-20T13:20:32.423692",
     "exception": false,
     "start_time": "2023-09-20T13:20:32.415320",
     "status": "completed"
    },
    "tags": []
   },
   "source": [
    "# Ratings of Electronic Accessories\n",
    "\n",
    "* **Similar to the previous one, we now have to focus on the Naypyitaw branch**\n",
    "\n",
    "* **We have to list out the Electronic accessories products whose ratings are equal to or greater than 9**"
   ]
  },
  {
   "cell_type": "code",
   "execution_count": 9,
   "id": "9d8725f7",
   "metadata": {
    "execution": {
     "iopub.execute_input": "2023-09-20T13:20:32.442524Z",
     "iopub.status.busy": "2023-09-20T13:20:32.442131Z",
     "iopub.status.idle": "2023-09-20T13:20:32.453395Z",
     "shell.execute_reply": "2023-09-20T13:20:32.452435Z"
    },
    "papermill": {
     "duration": 0.023327,
     "end_time": "2023-09-20T13:20:32.455554",
     "exception": false,
     "start_time": "2023-09-20T13:20:32.432227",
     "status": "completed"
    },
    "tags": []
   },
   "outputs": [
    {
     "data": {
      "text/plain": [
       "Invoice ID\n",
       "740-22-2500    9.8\n",
       "426-39-2418    9.8\n",
       "583-72-1480    9.7\n",
       "672-51-8681    9.7\n",
       "226-31-3081    9.6\n",
       "633-09-3463    9.5\n",
       "389-25-3394    9.4\n",
       "120-06-4233    9.3\n",
       "861-77-0145    9.2\n",
       "137-63-5492    9.0\n",
       "Name: Rating, dtype: float64"
      ]
     },
     "execution_count": 9,
     "metadata": {},
     "output_type": "execute_result"
    }
   ],
   "source": [
    "d=a[a['City']=='Naypyitaw']\n",
    "d= d[d['Product line']== 'Electronic accessories'] #Specifying the city in which we need to focus on\n",
    "d=d[d['Rating']>=9] #Checking for the values where Member is true\n",
    "d['Rating']"
   ]
  },
  {
   "cell_type": "markdown",
   "id": "f45f555d",
   "metadata": {
    "papermill": {
     "duration": 0.008486,
     "end_time": "2023-09-20T13:20:32.472880",
     "exception": false,
     "start_time": "2023-09-20T13:20:32.464394",
     "status": "completed"
    },
    "tags": []
   },
   "source": [
    "# Highest Amount of Shopping\n",
    "\n",
    "* **Now, our task is to obtain the data of the highest amount of shopping where the customers pays using their credit cards**"
   ]
  },
  {
   "cell_type": "code",
   "execution_count": 10,
   "id": "62db56f1",
   "metadata": {
    "execution": {
     "iopub.execute_input": "2023-09-20T13:20:32.492533Z",
     "iopub.status.busy": "2023-09-20T13:20:32.491774Z",
     "iopub.status.idle": "2023-09-20T13:20:32.502012Z",
     "shell.execute_reply": "2023-09-20T13:20:32.500902Z"
    },
    "papermill": {
     "duration": 0.02253,
     "end_time": "2023-09-20T13:20:32.504226",
     "exception": false,
     "start_time": "2023-09-20T13:20:32.481696",
     "status": "completed"
    },
    "tags": []
   },
   "outputs": [
    {
     "data": {
      "text/plain": [
       "Invoice ID\n",
       "860-79-0874    1042.650\n",
       "687-47-8271    1039.290\n",
       "744-16-7898    1022.385\n",
       "271-88-8734    1020.705\n",
       "219-22-9386     944.622\n",
       "Name: Total, dtype: float64"
      ]
     },
     "execution_count": 10,
     "metadata": {},
     "output_type": "execute_result"
    }
   ],
   "source": [
    "e=a[a['Payment']=='Credit card']\n",
    "e['Total'].sort_values(ascending=False).head()"
   ]
  },
  {
   "cell_type": "markdown",
   "id": "51d07133",
   "metadata": {
    "papermill": {
     "duration": 0.008716,
     "end_time": "2023-09-20T13:20:32.521695",
     "exception": false,
     "start_time": "2023-09-20T13:20:32.512979",
     "status": "completed"
    },
    "tags": []
   },
   "source": [
    "# Data Visualization\n",
    "\n",
    "* **So far, we have seen the analysis of data using various queries, now we will understand the insights in the form of visualizations**\n",
    "\n",
    "* **For this, we have already imported the matplotlib library**"
   ]
  },
  {
   "cell_type": "code",
   "execution_count": 11,
   "id": "e7d3392a",
   "metadata": {
    "execution": {
     "iopub.execute_input": "2023-09-20T13:20:32.541455Z",
     "iopub.status.busy": "2023-09-20T13:20:32.540329Z",
     "iopub.status.idle": "2023-09-20T13:20:32.561277Z",
     "shell.execute_reply": "2023-09-20T13:20:32.560194Z"
    },
    "papermill": {
     "duration": 0.033114,
     "end_time": "2023-09-20T13:20:32.563523",
     "exception": false,
     "start_time": "2023-09-20T13:20:32.530409",
     "status": "completed"
    },
    "tags": []
   },
   "outputs": [
    {
     "data": {
      "text/html": [
       "<div>\n",
       "<style scoped>\n",
       "    .dataframe tbody tr th:only-of-type {\n",
       "        vertical-align: middle;\n",
       "    }\n",
       "\n",
       "    .dataframe tbody tr th {\n",
       "        vertical-align: top;\n",
       "    }\n",
       "\n",
       "    .dataframe thead th {\n",
       "        text-align: right;\n",
       "    }\n",
       "</style>\n",
       "<table border=\"1\" class=\"dataframe\">\n",
       "  <thead>\n",
       "    <tr style=\"text-align: right;\">\n",
       "      <th></th>\n",
       "      <th>Branch</th>\n",
       "      <th>City</th>\n",
       "      <th>Customer type</th>\n",
       "      <th>Gender</th>\n",
       "      <th>Product line</th>\n",
       "      <th>Unit price</th>\n",
       "      <th>Quantity</th>\n",
       "      <th>Tax 5%</th>\n",
       "      <th>Total</th>\n",
       "      <th>Date</th>\n",
       "      <th>Time</th>\n",
       "      <th>Payment</th>\n",
       "      <th>cogs</th>\n",
       "      <th>gross margin percentage</th>\n",
       "      <th>gross income</th>\n",
       "      <th>Rating</th>\n",
       "    </tr>\n",
       "    <tr>\n",
       "      <th>Invoice ID</th>\n",
       "      <th></th>\n",
       "      <th></th>\n",
       "      <th></th>\n",
       "      <th></th>\n",
       "      <th></th>\n",
       "      <th></th>\n",
       "      <th></th>\n",
       "      <th></th>\n",
       "      <th></th>\n",
       "      <th></th>\n",
       "      <th></th>\n",
       "      <th></th>\n",
       "      <th></th>\n",
       "      <th></th>\n",
       "      <th></th>\n",
       "      <th></th>\n",
       "    </tr>\n",
       "  </thead>\n",
       "  <tbody>\n",
       "    <tr>\n",
       "      <th>725-56-0833</th>\n",
       "      <td>A</td>\n",
       "      <td>Yangon</td>\n",
       "      <td>Normal</td>\n",
       "      <td>Female</td>\n",
       "      <td>Health and beauty</td>\n",
       "      <td>32.32</td>\n",
       "      <td>10</td>\n",
       "      <td>16.1600</td>\n",
       "      <td>339.3600</td>\n",
       "      <td>2/20/2019</td>\n",
       "      <td>16:49</td>\n",
       "      <td>Credit card</td>\n",
       "      <td>323.20</td>\n",
       "      <td>4.761905</td>\n",
       "      <td>16.1600</td>\n",
       "      <td>10.0</td>\n",
       "    </tr>\n",
       "    <tr>\n",
       "      <th>423-57-2993</th>\n",
       "      <td>B</td>\n",
       "      <td>Mandalay</td>\n",
       "      <td>Normal</td>\n",
       "      <td>Male</td>\n",
       "      <td>Sports and travel</td>\n",
       "      <td>93.39</td>\n",
       "      <td>6</td>\n",
       "      <td>28.0170</td>\n",
       "      <td>588.3570</td>\n",
       "      <td>3/27/2019</td>\n",
       "      <td>19:18</td>\n",
       "      <td>Ewallet</td>\n",
       "      <td>560.34</td>\n",
       "      <td>4.761905</td>\n",
       "      <td>28.0170</td>\n",
       "      <td>10.0</td>\n",
       "    </tr>\n",
       "    <tr>\n",
       "      <th>866-70-2814</th>\n",
       "      <td>B</td>\n",
       "      <td>Mandalay</td>\n",
       "      <td>Normal</td>\n",
       "      <td>Female</td>\n",
       "      <td>Electronic accessories</td>\n",
       "      <td>52.79</td>\n",
       "      <td>10</td>\n",
       "      <td>26.3950</td>\n",
       "      <td>554.2950</td>\n",
       "      <td>2/25/2019</td>\n",
       "      <td>11:58</td>\n",
       "      <td>Ewallet</td>\n",
       "      <td>527.90</td>\n",
       "      <td>4.761905</td>\n",
       "      <td>26.3950</td>\n",
       "      <td>10.0</td>\n",
       "    </tr>\n",
       "    <tr>\n",
       "      <th>347-34-2234</th>\n",
       "      <td>B</td>\n",
       "      <td>Mandalay</td>\n",
       "      <td>Member</td>\n",
       "      <td>Female</td>\n",
       "      <td>Sports and travel</td>\n",
       "      <td>55.07</td>\n",
       "      <td>9</td>\n",
       "      <td>24.7815</td>\n",
       "      <td>520.4115</td>\n",
       "      <td>2/3/2019</td>\n",
       "      <td>13:40</td>\n",
       "      <td>Ewallet</td>\n",
       "      <td>495.63</td>\n",
       "      <td>4.761905</td>\n",
       "      <td>24.7815</td>\n",
       "      <td>10.0</td>\n",
       "    </tr>\n",
       "    <tr>\n",
       "      <th>285-68-5083</th>\n",
       "      <td>C</td>\n",
       "      <td>Naypyitaw</td>\n",
       "      <td>Member</td>\n",
       "      <td>Female</td>\n",
       "      <td>Sports and travel</td>\n",
       "      <td>24.74</td>\n",
       "      <td>3</td>\n",
       "      <td>3.7110</td>\n",
       "      <td>77.9310</td>\n",
       "      <td>2/15/2019</td>\n",
       "      <td>17:47</td>\n",
       "      <td>Credit card</td>\n",
       "      <td>74.22</td>\n",
       "      <td>4.761905</td>\n",
       "      <td>3.7110</td>\n",
       "      <td>10.0</td>\n",
       "    </tr>\n",
       "  </tbody>\n",
       "</table>\n",
       "</div>"
      ],
      "text/plain": [
       "            Branch       City Customer type  Gender            Product line  \\\n",
       "Invoice ID                                                                    \n",
       "725-56-0833      A     Yangon        Normal  Female       Health and beauty   \n",
       "423-57-2993      B   Mandalay        Normal    Male       Sports and travel   \n",
       "866-70-2814      B   Mandalay        Normal  Female  Electronic accessories   \n",
       "347-34-2234      B   Mandalay        Member  Female       Sports and travel   \n",
       "285-68-5083      C  Naypyitaw        Member  Female       Sports and travel   \n",
       "\n",
       "             Unit price  Quantity   Tax 5%     Total       Date   Time  \\\n",
       "Invoice ID                                                               \n",
       "725-56-0833       32.32        10  16.1600  339.3600  2/20/2019  16:49   \n",
       "423-57-2993       93.39         6  28.0170  588.3570  3/27/2019  19:18   \n",
       "866-70-2814       52.79        10  26.3950  554.2950  2/25/2019  11:58   \n",
       "347-34-2234       55.07         9  24.7815  520.4115   2/3/2019  13:40   \n",
       "285-68-5083       24.74         3   3.7110   77.9310  2/15/2019  17:47   \n",
       "\n",
       "                 Payment    cogs  gross margin percentage  gross income  \\\n",
       "Invoice ID                                                                \n",
       "725-56-0833  Credit card  323.20                 4.761905       16.1600   \n",
       "423-57-2993      Ewallet  560.34                 4.761905       28.0170   \n",
       "866-70-2814      Ewallet  527.90                 4.761905       26.3950   \n",
       "347-34-2234      Ewallet  495.63                 4.761905       24.7815   \n",
       "285-68-5083  Credit card   74.22                 4.761905        3.7110   \n",
       "\n",
       "             Rating  \n",
       "Invoice ID           \n",
       "725-56-0833    10.0  \n",
       "423-57-2993    10.0  \n",
       "866-70-2814    10.0  \n",
       "347-34-2234    10.0  \n",
       "285-68-5083    10.0  "
      ]
     },
     "execution_count": 11,
     "metadata": {},
     "output_type": "execute_result"
    }
   ],
   "source": [
    "a.head()"
   ]
  },
  {
   "cell_type": "markdown",
   "id": "1260312c",
   "metadata": {
    "papermill": {
     "duration": 0.008786,
     "end_time": "2023-09-20T13:20:32.581559",
     "exception": false,
     "start_time": "2023-09-20T13:20:32.572773",
     "status": "completed"
    },
    "tags": []
   },
   "source": [
    "# Highest Shopping Amount\n",
    "\n",
    "* **Our job is to visualize the data of the highest shopping done by the customers having membership**"
   ]
  },
  {
   "cell_type": "code",
   "execution_count": 12,
   "id": "8f405f18",
   "metadata": {
    "execution": {
     "iopub.execute_input": "2023-09-20T13:20:32.602474Z",
     "iopub.status.busy": "2023-09-20T13:20:32.601450Z",
     "iopub.status.idle": "2023-09-20T13:20:32.612376Z",
     "shell.execute_reply": "2023-09-20T13:20:32.611492Z"
    },
    "papermill": {
     "duration": 0.023892,
     "end_time": "2023-09-20T13:20:32.614683",
     "exception": false,
     "start_time": "2023-09-20T13:20:32.590791",
     "status": "completed"
    },
    "tags": []
   },
   "outputs": [
    {
     "data": {
      "text/plain": [
       "Invoice ID\n",
       "860-79-0874    1042.650\n",
       "283-26-5248    1034.460\n",
       "271-88-8734    1020.705\n",
       "325-77-6186     951.825\n",
       "280-17-4359     950.250\n",
       "Name: Total, dtype: float64"
      ]
     },
     "execution_count": 12,
     "metadata": {},
     "output_type": "execute_result"
    }
   ],
   "source": [
    "f=a[a['Customer type']=='Member']\n",
    "f=f.sort_values('Total',ascending=False)\n",
    "f['Total'].head()"
   ]
  },
  {
   "cell_type": "code",
   "execution_count": 13,
   "id": "00c5499c",
   "metadata": {
    "execution": {
     "iopub.execute_input": "2023-09-20T13:20:32.635131Z",
     "iopub.status.busy": "2023-09-20T13:20:32.634726Z",
     "iopub.status.idle": "2023-09-20T13:20:32.939921Z",
     "shell.execute_reply": "2023-09-20T13:20:32.938453Z"
    },
    "papermill": {
     "duration": 0.318707,
     "end_time": "2023-09-20T13:20:32.942645",
     "exception": false,
     "start_time": "2023-09-20T13:20:32.623938",
     "status": "completed"
    },
    "tags": []
   },
   "outputs": [
    {
     "data": {
      "text/plain": [
       "Text(0.5, 1.0, 'Highest Amount Spend By Customer Having Membership')"
      ]
     },
     "execution_count": 13,
     "metadata": {},
     "output_type": "execute_result"
    },
    {
     "data": {
      "image/png": "[encoded data removed]",
      "text/plain": [
       "<Figure size 640x480 with 1 Axes>"
      ]
     },
     "metadata": {},
     "output_type": "display_data"
    }
   ],
   "source": [
    "x=f['Total'].head()\n",
    "\n",
    "plt.plot(x,marker='o',mfc='m') #Giving specifications for the plot chart \n",
    "\n",
    "plt.grid() #Adding grid for better interpretation of no.\n",
    "plt.ylabel(\"Shopping Amount\",fontsize=12) #Adding label for y axis\n",
    "plt.xlabel(\"Transaction ID\",fontsize=12) #Adding label for x axis\n",
    "plt.title(\"Highest Amount Spend By Customer Having Membership\",fontsize=14) #Giving title, specifying fontsize"
   ]
  },
  {
   "cell_type": "markdown",
   "id": "e8121255",
   "metadata": {
    "papermill": {
     "duration": 0.009713,
     "end_time": "2023-09-20T13:20:32.962552",
     "exception": false,
     "start_time": "2023-09-20T13:20:32.952839",
     "status": "completed"
    },
    "tags": []
   },
   "source": [
    "# Highest Gross Income By Female Customers\n",
    "\n",
    "* **We need to find the insights of the shopping done in the Naypyitaw branch of the supermarket**\n",
    "\n",
    "* **Here, our focus is on the shopping done in Sports and travel category by the female customers**"
   ]
  },
  {
   "cell_type": "code",
   "execution_count": 14,
   "id": "951519d8",
   "metadata": {
    "execution": {
     "iopub.execute_input": "2023-09-20T13:20:32.984806Z",
     "iopub.status.busy": "2023-09-20T13:20:32.984029Z",
     "iopub.status.idle": "2023-09-20T13:20:32.997001Z",
     "shell.execute_reply": "2023-09-20T13:20:32.995884Z"
    },
    "papermill": {
     "duration": 0.02691,
     "end_time": "2023-09-20T13:20:32.999484",
     "exception": false,
     "start_time": "2023-09-20T13:20:32.972574",
     "status": "completed"
    },
    "tags": []
   },
   "outputs": [
    {
     "data": {
      "text/plain": [
       "Invoice ID\n",
       "554-42-2417    47.7200\n",
       "731-81-9469    44.9000\n",
       "678-79-0726    40.7835\n",
       "400-89-4171    32.3880\n",
       "394-55-6384    31.5855\n",
       "Name: gross income, dtype: float64"
      ]
     },
     "execution_count": 14,
     "metadata": {},
     "output_type": "execute_result"
    }
   ],
   "source": [
    "g=a[a['City']=='Naypyitaw']\n",
    "g=g[g['Gender']=='Female']\n",
    "g=g[g['Product line']=='Sports and travel']\n",
    "g=g.sort_values('gross income',ascending=False)\n",
    "g['gross income'].head()"
   ]
  },
  {
   "cell_type": "code",
   "execution_count": 15,
   "id": "1361f95a",
   "metadata": {
    "execution": {
     "iopub.execute_input": "2023-09-20T13:20:33.022952Z",
     "iopub.status.busy": "2023-09-20T13:20:33.022281Z",
     "iopub.status.idle": "2023-09-20T13:20:33.329664Z",
     "shell.execute_reply": "2023-09-20T13:20:33.328427Z"
    },
    "papermill": {
     "duration": 0.321773,
     "end_time": "2023-09-20T13:20:33.332163",
     "exception": false,
     "start_time": "2023-09-20T13:20:33.010390",
     "status": "completed"
    },
    "tags": []
   },
   "outputs": [
    {
     "data": {
      "text/plain": [
       "Text(0, 0.5, 'Gross Income')"
      ]
     },
     "execution_count": 15,
     "metadata": {},
     "output_type": "execute_result"
    },
    {
     "data": {
      "image/png": "[encoded data removed]",
      "text/plain": [
       "<Figure size 640x480 with 1 Axes>"
      ]
     },
     "metadata": {},
     "output_type": "display_data"
    }
   ],
   "source": [
    "x=[1,2,3,4,5]\n",
    "y=g['gross income'].head()\n",
    "\n",
    "plt.bar(x,y,color='b',alpha=0.7) #alpha func to reduce the color intensity of the bar graph\n",
    "plt.grid()\n",
    "plt.title(\"Highest Gross Income Generated By Female in Naypyitaw in Sports and Travel Shopping\")\n",
    "plt.ylabel(\"Gross Income\",fontsize=12) "
   ]
  },
  {
   "cell_type": "markdown",
   "id": "ef19de17",
   "metadata": {
    "papermill": {
     "duration": 0.01053,
     "end_time": "2023-09-20T13:20:33.353617",
     "exception": false,
     "start_time": "2023-09-20T13:20:33.343087",
     "status": "completed"
    },
    "tags": []
   },
   "source": [
    "# Comparision of Health and Beauty Product\n",
    "\n",
    "* **In this visualization, we have to compare between the health and beauty products buyers among male and female**\n",
    "\n",
    "* **The interesting thing here is that we have to plot both the graphs in a same visualization to compare both of them**"
   ]
  },
  {
   "cell_type": "code",
   "execution_count": 16,
   "id": "6885d8f3",
   "metadata": {
    "execution": {
     "iopub.execute_input": "2023-09-20T13:20:33.377252Z",
     "iopub.status.busy": "2023-09-20T13:20:33.376837Z",
     "iopub.status.idle": "2023-09-20T13:20:33.386716Z",
     "shell.execute_reply": "2023-09-20T13:20:33.385576Z"
    },
    "papermill": {
     "duration": 0.024847,
     "end_time": "2023-09-20T13:20:33.389271",
     "exception": false,
     "start_time": "2023-09-20T13:20:33.364424",
     "status": "completed"
    },
    "tags": []
   },
   "outputs": [],
   "source": [
    "h=a[a['Product line']=='Health and beauty']\n",
    "\n",
    "y=h[h['Gender']=='Male']\n",
    "z=h[h['Gender']=='Female']\n",
    "\n",
    "y=y.sort_values('Total',ascending=False)\n",
    "z=z.sort_values('Total',ascending=False)\n",
    "\n",
    "#y['Total'].head()\n",
    "#z['Total'].head()"
   ]
  },
  {
   "cell_type": "code",
   "execution_count": 17,
   "id": "2f0d7839",
   "metadata": {
    "execution": {
     "iopub.execute_input": "2023-09-20T13:20:33.413687Z",
     "iopub.status.busy": "2023-09-20T13:20:33.413249Z",
     "iopub.status.idle": "2023-09-20T13:20:33.709792Z",
     "shell.execute_reply": "2023-09-20T13:20:33.708809Z"
    },
    "papermill": {
     "duration": 0.312101,
     "end_time": "2023-09-20T13:20:33.712422",
     "exception": false,
     "start_time": "2023-09-20T13:20:33.400321",
     "status": "completed"
    },
    "tags": []
   },
   "outputs": [
    {
     "data": {
      "image/png": "[encoded data removed]",
      "text/plain": [
       "<Figure size 640x480 with 1 Axes>"
      ]
     },
     "metadata": {},
     "output_type": "display_data"
    }
   ],
   "source": [
    "x=[1,2,3,4,5]\n",
    "y=y['Total'].head()\n",
    "z=z['Total'].head()\n",
    "\n",
    "plt.bar(x,y,label=\"Male\")\n",
    "plt.bar(x,z,label=\"Female\")\n",
    "\n",
    "plt.grid()\n",
    "plt.title(\"Comparision of Health & Beauty Products among Male & Females\",fontsize=15)\n",
    "plt.legend()\n",
    "plt.show()"
   ]
  },
  {
   "cell_type": "markdown",
   "id": "854a4b6e",
   "metadata": {
    "papermill": {
     "duration": 0.011227,
     "end_time": "2023-09-20T13:20:33.798854",
     "exception": false,
     "start_time": "2023-09-20T13:20:33.787627",
     "status": "completed"
    },
    "tags": []
   },
   "source": [
    "# No. of Shoppers in Each Branch\n",
    "\n",
    "* **Our job here is to compare the no. of customers from all the three branches**\n",
    "\n",
    "* **Along with this, we also need to display the percentage share of customer belonging from each branch**"
   ]
  },
  {
   "cell_type": "code",
   "execution_count": 18,
   "id": "b3672e9a",
   "metadata": {
    "execution": {
     "iopub.execute_input": "2023-09-20T13:20:33.823457Z",
     "iopub.status.busy": "2023-09-20T13:20:33.823070Z",
     "iopub.status.idle": "2023-09-20T13:20:33.831177Z",
     "shell.execute_reply": "2023-09-20T13:20:33.830091Z"
    },
    "papermill": {
     "duration": 0.023274,
     "end_time": "2023-09-20T13:20:33.833452",
     "exception": false,
     "start_time": "2023-09-20T13:20:33.810178",
     "status": "completed"
    },
    "tags": []
   },
   "outputs": [
    {
     "data": {
      "text/plain": [
       "City\n",
       "Yangon       340\n",
       "Mandalay     332\n",
       "Naypyitaw    328\n",
       "Name: count, dtype: int64"
      ]
     },
     "execution_count": 18,
     "metadata": {},
     "output_type": "execute_result"
    }
   ],
   "source": [
    "a['City'].value_counts()"
   ]
  },
  {
   "cell_type": "code",
   "execution_count": 19,
   "id": "7d0ee1cb",
   "metadata": {
    "execution": {
     "iopub.execute_input": "2023-09-20T13:20:33.858784Z",
     "iopub.status.busy": "2023-09-20T13:20:33.858101Z",
     "iopub.status.idle": "2023-09-20T13:20:34.049861Z",
     "shell.execute_reply": "2023-09-20T13:20:34.048520Z"
    },
    "papermill": {
     "duration": 0.207331,
     "end_time": "2023-09-20T13:20:34.052522",
     "exception": false,
     "start_time": "2023-09-20T13:20:33.845191",
     "status": "completed"
    },
    "tags": []
   },
   "outputs": [
    {
     "data": {
      "image/png": "[encoded data removed]",
      "text/plain": [
       "<Figure size 640x480 with 1 Axes>"
      ]
     },
     "metadata": {},
     "output_type": "display_data"
    }
   ],
   "source": [
    "x=a['City'].value_counts()\n",
    "\n",
    "plt.pie(x,labels=['Yangon(A)','Mandalay(B)','Naypyitaw(C)'],autopct=\"%0.2f %%\")\n",
    "\n",
    "plt.title(\"Comparision Between Sales in Branches of Supermarket\",fontsize=15)\n",
    "plt.legend(loc=2)\n",
    "plt.show()"
   ]
  },
  {
   "cell_type": "markdown",
   "id": "2b87be34",
   "metadata": {
    "papermill": {
     "duration": 0.012081,
     "end_time": "2023-09-20T13:20:34.077048",
     "exception": false,
     "start_time": "2023-09-20T13:20:34.064967",
     "status": "completed"
    },
    "tags": []
   },
   "source": [
    "# Conclusion\n",
    "\n",
    "* **In this notebook, we perfomed the exploratory data analysis (EDA) in the supermarket sales data**\n",
    "\n",
    "* **Along with doing analysis, we also focused on the visualization part, which allows us to understand the data very easily**\n",
    "\n",
    "* **At last, these Sales Analysis of the Supermarket Data is very helpful to understand the customer behaviour and needs and helpful in taking actions through them**"
   ]
  }
 ],
 "metadata": {
  "kernelspec": {
   "display_name": "Python 3",
   "language": "python",
   "name": "python3"
  },
  "language_info": {
   "codemirror_mode": {
    "name": "ipython",
    "version": 3
   },
   "file_extension": ".py",
   "mimetype": "text/x-python",
   "name": "python",
   "nbconvert_exporter": "python",
   "pygments_lexer": "ipython3",
   "version": "3.10.12"
  },
  "papermill": {
   "default_parameters": {},
   "duration": 6.281127,
   "end_time": "2023-09-20T13:20:34.609388",
   "environment_variables": {},
   "exception": null,
   "input_path": "__notebook__.ipynb",
   "output_path": "__notebook__.ipynb",
   "parameters": {},
   "start_time": "2023-09-20T13:20:28.328261",
   "version": "2.4.0"
  }
 },
 "nbformat": 4,
 "nbformat_minor": 5
}
